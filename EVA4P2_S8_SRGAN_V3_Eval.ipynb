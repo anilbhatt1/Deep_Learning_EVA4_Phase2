{
  "nbformat": 4,
  "nbformat_minor": 0,
  "metadata": {
    "colab": {
      "name": "EVA4P2_S8_SRGAN_V3_Eval.ipynb",
      "provenance": [],
      "collapsed_sections": [],
      "include_colab_link": true
    },
    "kernelspec": {
      "name": "python3",
      "display_name": "Python 3"
    },
    "accelerator": "GPU",
    "widgets": {
      "application/vnd.jupyter.widget-state+json": {
        "5dee6abafa3b4c7bbed9122949011086": {
          "model_module": "@jupyter-widgets/controls",
          "model_name": "HBoxModel",
          "state": {
            "_view_name": "HBoxView",
            "_dom_classes": [],
            "_model_name": "HBoxModel",
            "_view_module": "@jupyter-widgets/controls",
            "_model_module_version": "1.5.0",
            "_view_count": null,
            "_view_module_version": "1.5.0",
            "box_style": "",
            "layout": "IPY_MODEL_7367f9bbc9f04790a36abf3bf1f0d679",
            "_model_module": "@jupyter-widgets/controls",
            "children": [
              "IPY_MODEL_0b77504502164e508e746941ad3b61a4",
              "IPY_MODEL_14f29c04c3034beb9956965eab5bbc8f"
            ]
          }
        },
        "7367f9bbc9f04790a36abf3bf1f0d679": {
          "model_module": "@jupyter-widgets/base",
          "model_name": "LayoutModel",
          "state": {
            "_view_name": "LayoutView",
            "grid_template_rows": null,
            "right": null,
            "justify_content": null,
            "_view_module": "@jupyter-widgets/base",
            "overflow": null,
            "_model_module_version": "1.2.0",
            "_view_count": null,
            "flex_flow": null,
            "width": null,
            "min_width": null,
            "border": null,
            "align_items": null,
            "bottom": null,
            "_model_module": "@jupyter-widgets/base",
            "top": null,
            "grid_column": null,
            "overflow_y": null,
            "overflow_x": null,
            "grid_auto_flow": null,
            "grid_area": null,
            "grid_template_columns": null,
            "flex": null,
            "_model_name": "LayoutModel",
            "justify_items": null,
            "grid_row": null,
            "max_height": null,
            "align_content": null,
            "visibility": null,
            "align_self": null,
            "height": null,
            "min_height": null,
            "padding": null,
            "grid_auto_rows": null,
            "grid_gap": null,
            "max_width": null,
            "order": null,
            "_view_module_version": "1.2.0",
            "grid_template_areas": null,
            "object_position": null,
            "object_fit": null,
            "grid_auto_columns": null,
            "margin": null,
            "display": null,
            "left": null
          }
        },
        "0b77504502164e508e746941ad3b61a4": {
          "model_module": "@jupyter-widgets/controls",
          "model_name": "FloatProgressModel",
          "state": {
            "_view_name": "ProgressView",
            "style": "IPY_MODEL_cffd883f747745b1b3232a1b0059b871",
            "_dom_classes": [],
            "description": "100%",
            "_model_name": "FloatProgressModel",
            "bar_style": "success",
            "max": 553433881,
            "_view_module": "@jupyter-widgets/controls",
            "_model_module_version": "1.5.0",
            "value": 553433881,
            "_view_count": null,
            "_view_module_version": "1.5.0",
            "orientation": "horizontal",
            "min": 0,
            "description_tooltip": null,
            "_model_module": "@jupyter-widgets/controls",
            "layout": "IPY_MODEL_3da7b276bff74ee694099b78c26fc82f"
          }
        },
        "14f29c04c3034beb9956965eab5bbc8f": {
          "model_module": "@jupyter-widgets/controls",
          "model_name": "HTMLModel",
          "state": {
            "_view_name": "HTMLView",
            "style": "IPY_MODEL_c037a4c4b0d04149a23c43c708ca0c9c",
            "_dom_classes": [],
            "description": "",
            "_model_name": "HTMLModel",
            "placeholder": "​",
            "_view_module": "@jupyter-widgets/controls",
            "_model_module_version": "1.5.0",
            "value": " 528M/528M [00:02&lt;00:00, 232MB/s]",
            "_view_count": null,
            "_view_module_version": "1.5.0",
            "description_tooltip": null,
            "_model_module": "@jupyter-widgets/controls",
            "layout": "IPY_MODEL_0c902a1563eb4550bd3c7cfd4b1552ce"
          }
        },
        "cffd883f747745b1b3232a1b0059b871": {
          "model_module": "@jupyter-widgets/controls",
          "model_name": "ProgressStyleModel",
          "state": {
            "_view_name": "StyleView",
            "_model_name": "ProgressStyleModel",
            "description_width": "initial",
            "_view_module": "@jupyter-widgets/base",
            "_model_module_version": "1.5.0",
            "_view_count": null,
            "_view_module_version": "1.2.0",
            "bar_color": null,
            "_model_module": "@jupyter-widgets/controls"
          }
        },
        "3da7b276bff74ee694099b78c26fc82f": {
          "model_module": "@jupyter-widgets/base",
          "model_name": "LayoutModel",
          "state": {
            "_view_name": "LayoutView",
            "grid_template_rows": null,
            "right": null,
            "justify_content": null,
            "_view_module": "@jupyter-widgets/base",
            "overflow": null,
            "_model_module_version": "1.2.0",
            "_view_count": null,
            "flex_flow": null,
            "width": null,
            "min_width": null,
            "border": null,
            "align_items": null,
            "bottom": null,
            "_model_module": "@jupyter-widgets/base",
            "top": null,
            "grid_column": null,
            "overflow_y": null,
            "overflow_x": null,
            "grid_auto_flow": null,
            "grid_area": null,
            "grid_template_columns": null,
            "flex": null,
            "_model_name": "LayoutModel",
            "justify_items": null,
            "grid_row": null,
            "max_height": null,
            "align_content": null,
            "visibility": null,
            "align_self": null,
            "height": null,
            "min_height": null,
            "padding": null,
            "grid_auto_rows": null,
            "grid_gap": null,
            "max_width": null,
            "order": null,
            "_view_module_version": "1.2.0",
            "grid_template_areas": null,
            "object_position": null,
            "object_fit": null,
            "grid_auto_columns": null,
            "margin": null,
            "display": null,
            "left": null
          }
        },
        "c037a4c4b0d04149a23c43c708ca0c9c": {
          "model_module": "@jupyter-widgets/controls",
          "model_name": "DescriptionStyleModel",
          "state": {
            "_view_name": "StyleView",
            "_model_name": "DescriptionStyleModel",
            "description_width": "",
            "_view_module": "@jupyter-widgets/base",
            "_model_module_version": "1.5.0",
            "_view_count": null,
            "_view_module_version": "1.2.0",
            "_model_module": "@jupyter-widgets/controls"
          }
        },
        "0c902a1563eb4550bd3c7cfd4b1552ce": {
          "model_module": "@jupyter-widgets/base",
          "model_name": "LayoutModel",
          "state": {
            "_view_name": "LayoutView",
            "grid_template_rows": null,
            "right": null,
            "justify_content": null,
            "_view_module": "@jupyter-widgets/base",
            "overflow": null,
            "_model_module_version": "1.2.0",
            "_view_count": null,
            "flex_flow": null,
            "width": null,
            "min_width": null,
            "border": null,
            "align_items": null,
            "bottom": null,
            "_model_module": "@jupyter-widgets/base",
            "top": null,
            "grid_column": null,
            "overflow_y": null,
            "overflow_x": null,
            "grid_auto_flow": null,
            "grid_area": null,
            "grid_template_columns": null,
            "flex": null,
            "_model_name": "LayoutModel",
            "justify_items": null,
            "grid_row": null,
            "max_height": null,
            "align_content": null,
            "visibility": null,
            "align_self": null,
            "height": null,
            "min_height": null,
            "padding": null,
            "grid_auto_rows": null,
            "grid_gap": null,
            "max_width": null,
            "order": null,
            "_view_module_version": "1.2.0",
            "grid_template_areas": null,
            "object_position": null,
            "object_fit": null,
            "grid_auto_columns": null,
            "margin": null,
            "display": null,
            "left": null
          }
        }
      }
    }
  },
  "cells": [
    {
      "cell_type": "markdown",
      "metadata": {
        "id": "view-in-github",
        "colab_type": "text"
      },
      "source": [
        "<a href=\"https://colab.research.google.com/github/anilbhatt1/Deep_Learning_EVA4_Phase2/blob/master/EVA4P2_S8_SRGAN_V3_Eval.ipynb\" target=\"_parent\"><img src=\"https://colab.research.google.com/assets/colab-badge.svg\" alt=\"Open In Colab\"/></a>"
      ]
    },
    {
      "cell_type": "code",
      "metadata": {
        "id": "wlGk2nuq4ZCr",
        "colab": {
          "base_uri": "https://localhost:8080/"
        },
        "outputId": "392add5d-d491-4cfe-9581-a6f810fc01ce"
      },
      "source": [
        "! nvidia-smi"
      ],
      "execution_count": 2,
      "outputs": [
        {
          "output_type": "stream",
          "text": [
            "Tue Mar 16 10:43:22 2021       \n",
            "+-----------------------------------------------------------------------------+\n",
            "| NVIDIA-SMI 460.56       Driver Version: 460.32.03    CUDA Version: 11.2     |\n",
            "|-------------------------------+----------------------+----------------------+\n",
            "| GPU  Name        Persistence-M| Bus-Id        Disp.A | Volatile Uncorr. ECC |\n",
            "| Fan  Temp  Perf  Pwr:Usage/Cap|         Memory-Usage | GPU-Util  Compute M. |\n",
            "|                               |                      |               MIG M. |\n",
            "|===============================+======================+======================|\n",
            "|   0  Tesla K80           Off  | 00000000:00:04.0 Off |                    0 |\n",
            "| N/A   31C    P8    29W / 149W |      0MiB / 11441MiB |      0%      Default |\n",
            "|                               |                      |                  N/A |\n",
            "+-------------------------------+----------------------+----------------------+\n",
            "                                                                               \n",
            "+-----------------------------------------------------------------------------+\n",
            "| Processes:                                                                  |\n",
            "|  GPU   GI   CI        PID   Type   Process name                  GPU Memory |\n",
            "|        ID   ID                                                   Usage      |\n",
            "|=============================================================================|\n",
            "|  No running processes found                                                 |\n",
            "+-----------------------------------------------------------------------------+\n"
          ],
          "name": "stdout"
        }
      ]
    },
    {
      "cell_type": "code",
      "metadata": {
        "id": "95gzlYvniAPz",
        "colab": {
          "base_uri": "https://localhost:8080/"
        },
        "outputId": "b55f3252-c304-4231-ced0-337ee514967e"
      },
      "source": [
        "from google.colab import drive\n",
        "drive.mount('/content/gdrive')"
      ],
      "execution_count": 4,
      "outputs": [
        {
          "output_type": "stream",
          "text": [
            "Drive already mounted at /content/gdrive; to attempt to forcibly remount, call drive.mount(\"/content/gdrive\", force_remount=True).\n"
          ],
          "name": "stdout"
        }
      ]
    },
    {
      "cell_type": "code",
      "metadata": {
        "id": "aYrGOUqlURIQ",
        "colab": {
          "base_uri": "https://localhost:8080/"
        },
        "outputId": "bf271a28-76cb-444b-ce07-49d08100bc74"
      },
      "source": [
        "!pip install torch==1.5.1+cu92 torchvision==0.6.1+cu92 -f https://download.pytorch.org/whl/torch_stable.html"
      ],
      "execution_count": 5,
      "outputs": [
        {
          "output_type": "stream",
          "text": [
            "Looking in links: https://download.pytorch.org/whl/torch_stable.html\n",
            "Collecting torch==1.5.1+cu92\n",
            "\u001b[?25l  Downloading https://download.pytorch.org/whl/cu92/torch-1.5.1%2Bcu92-cp37-cp37m-linux_x86_64.whl (604.8MB)\n",
            "\u001b[K     |████████████████████████████████| 604.8MB 32kB/s \n",
            "\u001b[?25hCollecting torchvision==0.6.1+cu92\n",
            "\u001b[?25l  Downloading https://download.pytorch.org/whl/cu92/torchvision-0.6.1%2Bcu92-cp37-cp37m-linux_x86_64.whl (6.5MB)\n",
            "\u001b[K     |████████████████████████████████| 6.5MB 35.5MB/s \n",
            "\u001b[?25hRequirement already satisfied: numpy in /usr/local/lib/python3.7/dist-packages (from torch==1.5.1+cu92) (1.19.5)\n",
            "Requirement already satisfied: future in /usr/local/lib/python3.7/dist-packages (from torch==1.5.1+cu92) (0.16.0)\n",
            "Requirement already satisfied: pillow>=4.1.1 in /usr/local/lib/python3.7/dist-packages (from torchvision==0.6.1+cu92) (7.0.0)\n",
            "\u001b[31mERROR: torchtext 0.9.0 has requirement torch==1.8.0, but you'll have torch 1.5.1+cu92 which is incompatible.\u001b[0m\n",
            "Installing collected packages: torch, torchvision\n",
            "  Found existing installation: torch 1.8.0+cu101\n",
            "    Uninstalling torch-1.8.0+cu101:\n",
            "      Successfully uninstalled torch-1.8.0+cu101\n",
            "  Found existing installation: torchvision 0.9.0+cu101\n",
            "    Uninstalling torchvision-0.9.0+cu101:\n",
            "      Successfully uninstalled torchvision-0.9.0+cu101\n",
            "Successfully installed torch-1.5.1+cu92 torchvision-0.6.1+cu92\n"
          ],
          "name": "stdout"
        }
      ]
    },
    {
      "cell_type": "code",
      "metadata": {
        "id": "teyHqGVbqdfJ",
        "colab": {
          "base_uri": "https://localhost:8080/"
        },
        "outputId": "d2b6ac8f-b0fb-457b-b22a-e49d6ae50171"
      },
      "source": [
        "import warnings\n",
        "warnings.filterwarnings('ignore')\n",
        "import zipfile\n",
        "from zipfile import ZipFile\n",
        "from pathlib import Path\n",
        "from time import time\n",
        "from datetime import datetime \n",
        "from __future__ import print_function\n",
        "import torch\n",
        "import torchvision\n",
        "from torchvision import transforms\n",
        "from torch.utils.data import DataLoader, Dataset\n",
        "import torch.nn as nn\n",
        "import torch.nn.functional as F\n",
        "import torch.optim as optim\n",
        "import numpy as np\n",
        "from tqdm import tqdm\n",
        "from PIL import Image\n",
        "from tqdm import tqdm_notebook\n",
        "import matplotlib.pyplot as plt\n",
        "import cv2\n",
        "import pkgutil\n",
        "import importlib\n",
        "import os\n",
        "import random\n",
        "%matplotlib inline\n",
        "%config IPCompleter.greedy=True\n",
        "%reload_ext autoreload\n",
        "import io\n",
        "import skimage\n",
        "from skimage.transform import resize\n",
        "from itertools import groupby\n",
        "from tqdm.auto import tqdm\n",
        "import gc\n",
        "import seaborn as sns\n",
        "sns.set()\n",
        "!pip install torchsummary\n",
        "from torchsummary import summary\n",
        "print('Pytorch version:', torch.__version__)"
      ],
      "execution_count": 6,
      "outputs": [
        {
          "output_type": "stream",
          "text": [
            "Requirement already satisfied: torchsummary in /usr/local/lib/python3.7/dist-packages (1.5.1)\n",
            "Pytorch version: 1.5.1+cu92\n"
          ],
          "name": "stdout"
        }
      ]
    },
    {
      "cell_type": "code",
      "metadata": {
        "colab": {
          "base_uri": "https://localhost:8080/"
        },
        "id": "7inbJ9AomT0c",
        "outputId": "5608d6b6-c70d-4811-967d-34c094ed1a18"
      },
      "source": [
        "# Copying the code from github to colab\r\n",
        "os.chdir('/content/')\r\n",
        "!git clone https://github.com/anilbhatt1/Deep_Learning_EVA4_Phase2\r\n",
        "%cd '/content/Deep_Learning_EVA4_Phase2/S8_SRGAN_Neural Transfer'\r\n",
        "! ls"
      ],
      "execution_count": 7,
      "outputs": [
        {
          "output_type": "stream",
          "text": [
            "Cloning into 'Deep_Learning_EVA4_Phase2'...\n",
            "remote: Enumerating objects: 39, done.\u001b[K\n",
            "remote: Counting objects: 100% (39/39), done.\u001b[K\n",
            "remote: Compressing objects: 100% (39/39), done.\u001b[K\n",
            "remote: Total 1415 (delta 17), reused 0 (delta 0), pack-reused 1376\u001b[K\n",
            "Receiving objects: 100% (1415/1415), 180.89 MiB | 24.99 MiB/s, done.\n",
            "Resolving deltas: 100% (755/755), done.\n",
            "Checking out files: 100% (233/233), done.\n",
            "/content/Deep_Learning_EVA4_Phase2/S8_SRGAN_Neural Transfer\n",
            "data_utils.py\t\t\t    EVA4P2_S8_SRGAN_V2.ipynb  pytorch_ssim\n",
            "EVA4P2_S8_Neural_Transfer_V2.ipynb  loss.py\t\t      README.md\n",
            "EVA4P2_S8_SRGAN_V1.ipynb\t    model.py\t\t      train.py\n"
          ],
          "name": "stdout"
        }
      ]
    },
    {
      "cell_type": "code",
      "metadata": {
        "id": "491lH2HImZUF"
      },
      "source": [
        "os.chdir('/content/Deep_Learning_EVA4_Phase2/S8_SRGAN_Neural Transfer/')\r\n",
        "import pytorch_ssim\r\n",
        "from data_utils import TrainDatasetFromFolder, ValDatasetFromFolder, display_transform\r\n",
        "import torchvision.utils as utils\r\n",
        "from loss import GeneratorLoss\r\n",
        "from model import Generator, Discriminator"
      ],
      "execution_count": 8,
      "outputs": []
    },
    {
      "cell_type": "code",
      "metadata": {
        "id": "Y1hKcTcaxib-"
      },
      "source": [
        "CROP_SIZE      = 44\n",
        "UPSCALE_FACTOR = 4\n",
        "NUM_EPOCHS     = 1000"
      ],
      "execution_count": 7,
      "outputs": []
    },
    {
      "cell_type": "code",
      "metadata": {
        "id": "PoP35C3zmeqO"
      },
      "source": [
        "train_set    = TrainDatasetFromFolder('/content/gdrive/My Drive/EVA4P2_S8_Data/train_data', crop_size=CROP_SIZE, upscale_factor=UPSCALE_FACTOR)\r\n",
        "val_set      = ValDatasetFromFolder('/content/gdrive/My Drive/EVA4P2_S8_Data/valid_data', upscale_factor=UPSCALE_FACTOR)\r\n",
        "train_loader = DataLoader(dataset=train_set, num_workers=4, batch_size=64, shuffle=True)\r\n",
        "val_loader   = DataLoader(dataset=val_set, num_workers=4, batch_size=1, shuffle=False)"
      ],
      "execution_count": 8,
      "outputs": []
    },
    {
      "cell_type": "code",
      "metadata": {
        "colab": {
          "base_uri": "https://localhost:8080/"
        },
        "id": "tJ-qSwU9mjVt",
        "outputId": "dcfab43d-4db8-4478-8b74-645c4a3d80bc"
      },
      "source": [
        "netG = Generator(UPSCALE_FACTOR)\r\n",
        "print('# generator parameters:', sum(param.numel() for param in netG.parameters()))\r\n",
        "netD = Discriminator()\r\n",
        "print('# discriminator parameters:', sum(param.numel() for param in netD.parameters()))"
      ],
      "execution_count": 9,
      "outputs": [
        {
          "output_type": "stream",
          "text": [
            "# generator parameters: 734219\n",
            "# discriminator parameters: 5215425\n"
          ],
          "name": "stdout"
        }
      ]
    },
    {
      "cell_type": "code",
      "metadata": {
        "id": "cgQTRWdRmlXc",
        "colab": {
          "base_uri": "https://localhost:8080/",
          "height": 82,
          "referenced_widgets": [
            "5dee6abafa3b4c7bbed9122949011086",
            "7367f9bbc9f04790a36abf3bf1f0d679",
            "0b77504502164e508e746941ad3b61a4",
            "14f29c04c3034beb9956965eab5bbc8f",
            "cffd883f747745b1b3232a1b0059b871",
            "3da7b276bff74ee694099b78c26fc82f",
            "c037a4c4b0d04149a23c43c708ca0c9c",
            "0c902a1563eb4550bd3c7cfd4b1552ce"
          ]
        },
        "outputId": "db006e9a-3ef3-45c4-b4e9-7f9bab4a67f8"
      },
      "source": [
        "generator_criterion = GeneratorLoss()"
      ],
      "execution_count": 10,
      "outputs": [
        {
          "output_type": "stream",
          "text": [
            "Downloading: \"https://download.pytorch.org/models/vgg16-397923af.pth\" to /root/.cache/torch/checkpoints/vgg16-397923af.pth\n"
          ],
          "name": "stderr"
        },
        {
          "output_type": "display_data",
          "data": {
            "application/vnd.jupyter.widget-view+json": {
              "model_id": "5dee6abafa3b4c7bbed9122949011086",
              "version_minor": 0,
              "version_major": 2
            },
            "text/plain": [
              "HBox(children=(FloatProgress(value=0.0, max=553433881.0), HTML(value='')))"
            ]
          },
          "metadata": {
            "tags": []
          }
        },
        {
          "output_type": "stream",
          "text": [
            "\n"
          ],
          "name": "stdout"
        }
      ]
    },
    {
      "cell_type": "code",
      "metadata": {
        "id": "zIuhsNdMmnn7"
      },
      "source": [
        "if torch.cuda.is_available():\r\n",
        "   netG.cuda()\r\n",
        "   netD.cuda()\r\n",
        "   generator_criterion.cuda()\r\n",
        "\r\n",
        "optimizerG = optim.Adam(netG.parameters())\r\n",
        "optimizerD = optim.Adam(netD.parameters())\r\n",
        "\r\n",
        "results = {'d_loss': [], 'g_loss': [], 'd_score': [], 'g_score': [], 'psnr': [], 'ssim': []}"
      ],
      "execution_count": 11,
      "outputs": []
    },
    {
      "cell_type": "code",
      "metadata": {
        "colab": {
          "base_uri": "https://localhost:8080/"
        },
        "id": "ob9_f8qOmprA",
        "outputId": "6f9a9afb-607e-4d44-ed9e-261ac1cd0f1b"
      },
      "source": [
        "summary(netD, input_size=(3, 128, 128))"
      ],
      "execution_count": 12,
      "outputs": [
        {
          "output_type": "stream",
          "text": [
            "----------------------------------------------------------------\n",
            "        Layer (type)               Output Shape         Param #\n",
            "================================================================\n",
            "            Conv2d-1         [-1, 64, 128, 128]           1,792\n",
            "         LeakyReLU-2         [-1, 64, 128, 128]               0\n",
            "            Conv2d-3           [-1, 64, 64, 64]          36,928\n",
            "       BatchNorm2d-4           [-1, 64, 64, 64]             128\n",
            "         LeakyReLU-5           [-1, 64, 64, 64]               0\n",
            "            Conv2d-6          [-1, 128, 64, 64]          73,856\n",
            "       BatchNorm2d-7          [-1, 128, 64, 64]             256\n",
            "         LeakyReLU-8          [-1, 128, 64, 64]               0\n",
            "            Conv2d-9          [-1, 128, 32, 32]         147,584\n",
            "      BatchNorm2d-10          [-1, 128, 32, 32]             256\n",
            "        LeakyReLU-11          [-1, 128, 32, 32]               0\n",
            "           Conv2d-12          [-1, 256, 32, 32]         295,168\n",
            "      BatchNorm2d-13          [-1, 256, 32, 32]             512\n",
            "        LeakyReLU-14          [-1, 256, 32, 32]               0\n",
            "           Conv2d-15          [-1, 256, 16, 16]         590,080\n",
            "      BatchNorm2d-16          [-1, 256, 16, 16]             512\n",
            "        LeakyReLU-17          [-1, 256, 16, 16]               0\n",
            "           Conv2d-18          [-1, 512, 16, 16]       1,180,160\n",
            "      BatchNorm2d-19          [-1, 512, 16, 16]           1,024\n",
            "        LeakyReLU-20          [-1, 512, 16, 16]               0\n",
            "           Conv2d-21            [-1, 512, 8, 8]       2,359,808\n",
            "      BatchNorm2d-22            [-1, 512, 8, 8]           1,024\n",
            "        LeakyReLU-23            [-1, 512, 8, 8]               0\n",
            "AdaptiveAvgPool2d-24            [-1, 512, 1, 1]               0\n",
            "           Conv2d-25           [-1, 1024, 1, 1]         525,312\n",
            "        LeakyReLU-26           [-1, 1024, 1, 1]               0\n",
            "           Conv2d-27              [-1, 1, 1, 1]           1,025\n",
            "================================================================\n",
            "Total params: 5,215,425\n",
            "Trainable params: 5,215,425\n",
            "Non-trainable params: 0\n",
            "----------------------------------------------------------------\n",
            "Input size (MB): 0.19\n",
            "Forward/backward pass size (MB): 48.27\n",
            "Params size (MB): 19.90\n",
            "Estimated Total Size (MB): 68.35\n",
            "----------------------------------------------------------------\n"
          ],
          "name": "stdout"
        }
      ]
    },
    {
      "cell_type": "code",
      "metadata": {
        "colab": {
          "base_uri": "https://localhost:8080/"
        },
        "id": "y4Q_0Ptvmrbx",
        "outputId": "876638e2-5069-4066-e71c-409548fd80d8"
      },
      "source": [
        "summary(netG, input_size=(3, 128, 128))"
      ],
      "execution_count": 13,
      "outputs": [
        {
          "output_type": "stream",
          "text": [
            "----------------------------------------------------------------\n",
            "        Layer (type)               Output Shape         Param #\n",
            "================================================================\n",
            "            Conv2d-1         [-1, 64, 128, 128]          15,616\n",
            "             PReLU-2         [-1, 64, 128, 128]               1\n",
            "            Conv2d-3         [-1, 64, 128, 128]          36,928\n",
            "       BatchNorm2d-4         [-1, 64, 128, 128]             128\n",
            "             PReLU-5         [-1, 64, 128, 128]               1\n",
            "            Conv2d-6         [-1, 64, 128, 128]          36,928\n",
            "       BatchNorm2d-7         [-1, 64, 128, 128]             128\n",
            "     ResidualBlock-8         [-1, 64, 128, 128]               0\n",
            "            Conv2d-9         [-1, 64, 128, 128]          36,928\n",
            "      BatchNorm2d-10         [-1, 64, 128, 128]             128\n",
            "            PReLU-11         [-1, 64, 128, 128]               1\n",
            "           Conv2d-12         [-1, 64, 128, 128]          36,928\n",
            "      BatchNorm2d-13         [-1, 64, 128, 128]             128\n",
            "    ResidualBlock-14         [-1, 64, 128, 128]               0\n",
            "           Conv2d-15         [-1, 64, 128, 128]          36,928\n",
            "      BatchNorm2d-16         [-1, 64, 128, 128]             128\n",
            "            PReLU-17         [-1, 64, 128, 128]               1\n",
            "           Conv2d-18         [-1, 64, 128, 128]          36,928\n",
            "      BatchNorm2d-19         [-1, 64, 128, 128]             128\n",
            "    ResidualBlock-20         [-1, 64, 128, 128]               0\n",
            "           Conv2d-21         [-1, 64, 128, 128]          36,928\n",
            "      BatchNorm2d-22         [-1, 64, 128, 128]             128\n",
            "            PReLU-23         [-1, 64, 128, 128]               1\n",
            "           Conv2d-24         [-1, 64, 128, 128]          36,928\n",
            "      BatchNorm2d-25         [-1, 64, 128, 128]             128\n",
            "    ResidualBlock-26         [-1, 64, 128, 128]               0\n",
            "           Conv2d-27         [-1, 64, 128, 128]          36,928\n",
            "      BatchNorm2d-28         [-1, 64, 128, 128]             128\n",
            "            PReLU-29         [-1, 64, 128, 128]               1\n",
            "           Conv2d-30         [-1, 64, 128, 128]          36,928\n",
            "      BatchNorm2d-31         [-1, 64, 128, 128]             128\n",
            "    ResidualBlock-32         [-1, 64, 128, 128]               0\n",
            "           Conv2d-33         [-1, 64, 128, 128]          36,928\n",
            "      BatchNorm2d-34         [-1, 64, 128, 128]             128\n",
            "           Conv2d-35        [-1, 256, 128, 128]         147,712\n",
            "     PixelShuffle-36         [-1, 64, 256, 256]               0\n",
            "            PReLU-37         [-1, 64, 256, 256]               1\n",
            "    UpsampleBLock-38         [-1, 64, 256, 256]               0\n",
            "           Conv2d-39        [-1, 256, 256, 256]         147,712\n",
            "     PixelShuffle-40         [-1, 64, 512, 512]               0\n",
            "            PReLU-41         [-1, 64, 512, 512]               1\n",
            "    UpsampleBLock-42         [-1, 64, 512, 512]               0\n",
            "           Conv2d-43          [-1, 3, 512, 512]          15,555\n",
            "================================================================\n",
            "Total params: 734,219\n",
            "Trainable params: 734,219\n",
            "Non-trainable params: 0\n",
            "----------------------------------------------------------------\n",
            "Input size (MB): 0.19\n",
            "Forward/backward pass size (MB): 918.00\n",
            "Params size (MB): 2.80\n",
            "Estimated Total Size (MB): 920.99\n",
            "----------------------------------------------------------------\n"
          ],
          "name": "stdout"
        }
      ]
    },
    {
      "cell_type": "code",
      "metadata": {
        "colab": {
          "base_uri": "https://localhost:8080/"
        },
        "id": "EFmESzArmu7J",
        "outputId": "4f63aa3d-fc5b-4436-eb5e-60e00473d095"
      },
      "source": [
        "netD_prev_save = f'/content/gdrive/My Drive/EVA4P2_S8_Data/Weights_D1011/netD_1000_20210315122214.pt'\r\n",
        "netD.load_state_dict(torch.load(netD_prev_save))\r\n",
        "netG_prev_save = f'/content/gdrive/My Drive/EVA4P2_S8_Data/Weights_D1011/netG_1000_20210315122214.pt'\r\n",
        "netG.load_state_dict(torch.load(netG_prev_save))"
      ],
      "execution_count": 14,
      "outputs": [
        {
          "output_type": "execute_result",
          "data": {
            "text/plain": [
              "<All keys matched successfully>"
            ]
          },
          "metadata": {
            "tags": []
          },
          "execution_count": 14
        }
      ]
    },
    {
      "cell_type": "code",
      "metadata": {
        "colab": {
          "base_uri": "https://localhost:8080/"
        },
        "id": "GU5jJtYzm4r_",
        "outputId": "ad2601f6-864d-4cb3-dc85-513be1a7b185"
      },
      "source": [
        "    for epoch in range(501, NUM_EPOCHS + 1):\r\n",
        "\r\n",
        "        running_results = {'batch_sizes': 0, 'd_loss': 0, 'g_loss': 0, 'd_score': 0, 'g_score': 0}\r\n",
        "        if epoch % 45 == 0:\r\n",
        "            print('epoch',epoch)\r\n",
        "    \r\n",
        "        netG.train()\r\n",
        "        netD.train()\r\n",
        "        for data, target in train_loader:    # data is lr image, target is hr image. eg: lr image (64,3,11,11) & hr image (64,3,44,44)\r\n",
        "            g_update_first = True\r\n",
        "            batch_size = data.size(0)\r\n",
        "            running_results['batch_sizes'] += batch_size\r\n",
        "    \r\n",
        "            ############################\r\n",
        "            # (1) Update D network: maximize D(x)-1-D(G(z))\r\n",
        "            ###########################\r\n",
        "            real_img = Variable(target)   # We are using variable to ensure back-propagation reaches the input hr image\r\n",
        "            if torch.cuda.is_available():\r\n",
        "                real_img = real_img.cuda()\r\n",
        "            z = Variable(data)           # We are using variable to ensure back-propagation reaches the input lr image \r\n",
        "            if torch.cuda.is_available():\r\n",
        "                z = z.cuda()\r\n",
        "            fake_img = netG(z)          # lr img is the input to generator which will create an sr image\r\n",
        "    \r\n",
        "            netD.zero_grad()\r\n",
        "            real_out = netD(real_img).mean()\r\n",
        "            fake_out = netD(fake_img).mean()\r\n",
        "            d_loss = 1 - real_out + fake_out\r\n",
        "            d_loss.backward(retain_graph=True)\r\n",
        "            optimizerD.step()\r\n",
        "    \r\n",
        "            ############################\r\n",
        "            # (2) Update G network: minimize 1-D(G(z)) + Perception Loss + Image Loss + TV Loss\r\n",
        "            ###########################\r\n",
        "            netG.zero_grad()\r\n",
        "            ############################################################\r\n",
        "            ## The two lines below are added to prevent runetime error! ##\r\n",
        "            fake_img = netG(z)\r\n",
        "            fake_out = netD(fake_img).mean()\r\n",
        "            ############################################################\r\n",
        "            g_loss = generator_criterion(fake_out, fake_img, real_img)    # fake_img will be same size as real_img (i.e. hr_img used for training) eg: (64,3,44,44)\r\n",
        "            g_loss.backward()\r\n",
        "            \r\n",
        "            fake_img = netG(z)\r\n",
        "            fake_out = netD(fake_img).mean()\r\n",
        "            \r\n",
        "            \r\n",
        "            optimizerG.step()\r\n",
        "\r\n",
        "            # loss for current batch before optimization \r\n",
        "            running_results['g_loss']  += g_loss.item() * batch_size\r\n",
        "            running_results['d_loss']  += d_loss.item() * batch_size\r\n",
        "            running_results['d_score'] += real_out.item() * batch_size\r\n",
        "            running_results['g_score'] += fake_out.item() * batch_size\r\n",
        "\r\n",
        "        if epoch % 45 == 0:\r\n",
        "            loss_d  = running_results['d_loss'] / running_results['batch_sizes']\r\n",
        "            loss_g  = running_results['g_loss'] / running_results['batch_sizes']\r\n",
        "            d_score = running_results['d_score'] / running_results['batch_sizes']\r\n",
        "            g_score = running_results['g_score'] / running_results['batch_sizes']\r\n",
        "            print(f'Training ~ Epoch - {epoch}/{NUM_EPOCHS}, Loss_D: {loss_d:.4f}, Loss_G: {loss_g:.4f}, D(x) Score: {d_score:.4f}, D(G(z)) Score: {g_score:.4f}')            \r\n",
        "    \r\n",
        "        netG.eval()\r\n",
        "        out_path     = f'/content/gdrive/My Drive/EVA4P2_S8_Data/Results_D1011/'\r\n",
        "        path_name_wt = f'/content/gdrive/My Drive/EVA4P2_S8_Data/Weights_D1011/'\r\n",
        "        stat_path = f'/content/gdrive/My Drive/EVA4P2_S8_Data/Statistics/'\r\n",
        "\r\n",
        "        with torch.no_grad():\r\n",
        "            valing_results = {'mse': 0, 'ssims': 0, 'psnr': 0, 'ssim': 0, 'batch_sizes': 0}\r\n",
        "            val_images = []\r\n",
        "\r\n",
        "            # Image sizes of validation differs from training. Refer TrainDatasetFromFolder class for more details.\r\n",
        "            # val_lr -> Low resolution image, val_hr_restore -> Resized version of Low resolution image, val_hr -> Cropped version of original image\r\n",
        "\r\n",
        "            for val_lr, val_hr_restore, val_hr in val_loader:\r\n",
        "                batch_size = val_lr.size(0)\r\n",
        "                valing_results['batch_sizes'] += batch_size\r\n",
        "                lr = val_lr\r\n",
        "                hr = val_hr\r\n",
        "                if torch.cuda.is_available():\r\n",
        "                    lr = lr.cuda()\r\n",
        "                    hr = hr.cuda()\r\n",
        "                sr = netG(lr)\r\n",
        "        \r\n",
        "                batch_mse = ((sr - hr) ** 2).data.mean()\r\n",
        "                valing_results['mse'] += batch_mse * batch_size\r\n",
        "                batch_ssim = pytorch_ssim.ssim(sr, hr).item()\r\n",
        "                #batch_ssim = ssim(sr, hr).item()\r\n",
        "                valing_results['ssims'] += batch_ssim * batch_size\r\n",
        "                valing_results['psnr'] = 10 * log10((hr.max()**2) / (valing_results['mse'] / valing_results['batch_sizes']))\r\n",
        "                valing_results['ssim'] = valing_results['ssims'] / valing_results['batch_sizes']\r\n",
        "        \r\n",
        "                # This is for display, left will be having LR image (hr_restore is a resized version of LR img only)\r\n",
        "                #                    middle will be having HR image (this is the original validation image - ground truth)\r\n",
        "                #                     right will be having SR image (this is the generated img, our aim is to make this better than GT)\r\n",
        "                val_images.extend(\r\n",
        "                    [display_transform()(val_hr_restore.squeeze(0)), display_transform()(hr.data.cpu().squeeze(0)),\r\n",
        "                     display_transform()(sr.data.cpu().squeeze(0))])\r\n",
        "            \r\n",
        "            val_images = torch.stack(val_images)                             # Concatenates sequence of tensors. All tensors need to be of the same size. \r\n",
        "                                                                             # eg: If val dataset has 20 images, then [60, 3, 400, 400] i.e. 20 + 20 + 20 = 60\r\n",
        "            val_images = torch.chunk(val_images, val_images.size(0) // 15)   # Splits a tensor into a specific number of chunks. \r\n",
        "                                                                             # We are displaying 5 images, 5 rows - each row having LR, HR, SR\r\n",
        "            \r\n",
        "            if epoch % 25 == 0:\r\n",
        "                psnr_val = valing_results['psnr']\r\n",
        "                ssim_val = valing_results['ssim']\r\n",
        "                print(f'Validation ~ Epoch - {epoch}/{NUM_EPOCHS}, PSNR: {psnr_val:.4f}, SSIM: {ssim_val:.4f}')\r\n",
        "\r\n",
        "                for image in val_images:\r\n",
        "                    t = datetime.now()\r\n",
        "                    time_stamp = t.strftime(\"%Y\")+t.strftime(\"%m\")+t.strftime(\"%d\")+t.strftime(\"%H\")+t.strftime(\"%M\")+t.strftime(\"%S\")                \r\n",
        "                    image = utils.make_grid(image, nrow=3, padding=5)\r\n",
        "                    utils.save_image(image, f'{out_path}SRGAN_{epoch}_{time_stamp}.png', padding=5)\r\n",
        "    \r\n",
        "        results['d_loss'].append(running_results['d_loss'] / running_results['batch_sizes'])\r\n",
        "        results['g_loss'].append(running_results['g_loss'] / running_results['batch_sizes'])\r\n",
        "        results['d_score'].append(running_results['d_score'] / running_results['batch_sizes'])\r\n",
        "        results['g_score'].append(running_results['g_score'] / running_results['batch_sizes'])\r\n",
        "        results['psnr'].append(valing_results['psnr'])\r\n",
        "        results['ssim'].append(valing_results['ssim'])\r\n",
        "    \r\n",
        "        if epoch % 50 == 0:       \r\n",
        "            data_frame = pd.DataFrame(\r\n",
        "                data={'Loss_D': results['d_loss'], 'Loss_G': results['g_loss'], 'Score_D': results['d_score'],\r\n",
        "                      'Score_G': results['g_score'], 'PSNR': results['psnr'], 'SSIM': results['ssim']})\r\n",
        "                #index=range(1, epoch + 1))\r\n",
        "            data_frame.to_csv(stat_path + 'srf_' + str(UPSCALE_FACTOR) + 'D15032021_train_results.csv', index_label='Epoch')\r\n",
        "\r\n",
        "        ### Keep the model in Gpu & Save the model values in intermittent epochs\r\n",
        "        if epoch % 50 == 0 or epoch == (NUM_EPOCHS-1):\r\n",
        "            t = datetime.now()\r\n",
        "            time_stamp = t.strftime(\"%Y\")+t.strftime(\"%m\")+t.strftime(\"%d\")+t.strftime(\"%H\")+t.strftime(\"%M\")+t.strftime(\"%S\")         \r\n",
        "            torch.save(netG.state_dict(),f'{path_name_wt}netG_{epoch}_{time_stamp}.pt')\r\n",
        "            torch.save(netD.state_dict(),f'{path_name_wt}netD_{epoch}_{time_stamp}.pt')                              \r\n",
        "            print(f'GPU models saved in epoch {epoch}/{NUM_EPOCHS}')\r\n",
        "\r\n",
        "        ### Convert the model to CPU & save the model values on final epoch    \r\n",
        "        if epoch == (NUM_EPOCHS-1):              \r\n",
        "            t = datetime.now()\r\n",
        "            time_stamp = t.strftime(\"%Y\")+t.strftime(\"%m\")+t.strftime(\"%d\")+t.strftime(\"%H\")+t.strftime(\"%M\")+t.strftime(\"%S\")\r\n",
        "            netG.eval()\r\n",
        "            netD.eval()\r\n",
        "            netG.to('cpu')\r\n",
        "            netD.to('cpu')\r\n",
        "            traced_netD = torch.jit.trace(netD,torch.randn(1,3,128,128))      \r\n",
        "            traced_netD.save(f'{path_name_wt}netD_CPU_{epoch}_{time_stamp}.pt')\r\n",
        "            traced_netG = torch.jit.trace(netG,torch.randn(1,3,128,128))      \r\n",
        "            traced_netG.save(f'{path_name_wt}netG_CPU_{epoch}_{time_stamp}.pt')             \r\n",
        "            print(f' **** CPU models Saved in epoch:{epoch+1}/{NUM_EPOCHS}')\r\n",
        "            netG.cuda()\r\n",
        "            netD.cuda()     "
      ],
      "execution_count": null,
      "outputs": [
        {
          "output_type": "stream",
          "text": [
            "Validation ~ Epoch - 525/1000, PSNR: 26.0678, SSIM: 0.8507\n",
            "epoch 540\n",
            "Training ~ Epoch - 540/1000, Loss_D: 1.0000, Loss_G: 0.0033, D(x) Score: 1.0000, D(G(z)) Score: 1.0000\n",
            "Validation ~ Epoch - 550/1000, PSNR: 25.7068, SSIM: 0.8483\n",
            "GPU models saved in epoch 550/1000\n",
            "Validation ~ Epoch - 575/1000, PSNR: 26.7248, SSIM: 0.8513\n",
            "epoch 585\n",
            "Training ~ Epoch - 585/1000, Loss_D: 1.0000, Loss_G: 0.0031, D(x) Score: 1.0000, D(G(z)) Score: 1.0000\n",
            "Validation ~ Epoch - 600/1000, PSNR: 26.9381, SSIM: 0.8536\n",
            "GPU models saved in epoch 600/1000\n",
            "Validation ~ Epoch - 625/1000, PSNR: 26.4355, SSIM: 0.8521\n",
            "epoch 630\n",
            "Training ~ Epoch - 630/1000, Loss_D: 1.0000, Loss_G: 0.0031, D(x) Score: 1.0000, D(G(z)) Score: 1.0000\n",
            "Validation ~ Epoch - 650/1000, PSNR: 26.9596, SSIM: 0.8531\n",
            "GPU models saved in epoch 650/1000\n",
            "epoch 675\n",
            "Training ~ Epoch - 675/1000, Loss_D: 1.0000, Loss_G: 0.0030, D(x) Score: 1.0000, D(G(z)) Score: 1.0000\n",
            "Validation ~ Epoch - 675/1000, PSNR: 26.8734, SSIM: 0.8533\n",
            "Validation ~ Epoch - 700/1000, PSNR: 26.4776, SSIM: 0.8527\n",
            "GPU models saved in epoch 700/1000\n",
            "epoch 720\n",
            "Training ~ Epoch - 720/1000, Loss_D: 1.0000, Loss_G: 0.0031, D(x) Score: 1.0000, D(G(z)) Score: 1.0000\n",
            "Validation ~ Epoch - 725/1000, PSNR: 27.0149, SSIM: 0.8546\n",
            "Validation ~ Epoch - 750/1000, PSNR: 26.9114, SSIM: 0.8526\n",
            "GPU models saved in epoch 750/1000\n",
            "epoch 765\n",
            "Training ~ Epoch - 765/1000, Loss_D: 1.0000, Loss_G: 0.0030, D(x) Score: 1.0000, D(G(z)) Score: 1.0000\n",
            "Validation ~ Epoch - 775/1000, PSNR: 26.8476, SSIM: 0.8533\n",
            "Validation ~ Epoch - 800/1000, PSNR: 26.6640, SSIM: 0.8548\n",
            "GPU models saved in epoch 800/1000\n",
            "epoch 810\n",
            "Training ~ Epoch - 810/1000, Loss_D: 1.0000, Loss_G: 0.0031, D(x) Score: 1.0000, D(G(z)) Score: 1.0000\n",
            "Validation ~ Epoch - 825/1000, PSNR: 26.7194, SSIM: 0.8522\n",
            "Validation ~ Epoch - 850/1000, PSNR: 27.0628, SSIM: 0.8562\n",
            "GPU models saved in epoch 850/1000\n",
            "epoch 855\n",
            "Training ~ Epoch - 855/1000, Loss_D: 1.0000, Loss_G: 0.0030, D(x) Score: 1.0000, D(G(z)) Score: 1.0000\n",
            "Validation ~ Epoch - 875/1000, PSNR: 26.8050, SSIM: 0.8550\n",
            "epoch 900\n",
            "Training ~ Epoch - 900/1000, Loss_D: 1.0000, Loss_G: 0.0030, D(x) Score: 1.0000, D(G(z)) Score: 1.0000\n",
            "Validation ~ Epoch - 900/1000, PSNR: 26.7145, SSIM: 0.8532\n",
            "GPU models saved in epoch 900/1000\n",
            "Validation ~ Epoch - 925/1000, PSNR: 26.8334, SSIM: 0.8548\n",
            "epoch 945\n",
            "Training ~ Epoch - 945/1000, Loss_D: 1.0000, Loss_G: 0.0030, D(x) Score: 1.0000, D(G(z)) Score: 1.0000\n",
            "Validation ~ Epoch - 950/1000, PSNR: 27.0107, SSIM: 0.8555\n",
            "GPU models saved in epoch 950/1000\n",
            "Validation ~ Epoch - 975/1000, PSNR: 27.0442, SSIM: 0.8550\n",
            "epoch 990\n",
            "Training ~ Epoch - 990/1000, Loss_D: 1.0000, Loss_G: 0.0029, D(x) Score: 1.0000, D(G(z)) Score: 1.0000\n",
            "GPU models saved in epoch 999/1000\n",
            " **** CPU models Saved in epoch:1000/1000\n",
            "Validation ~ Epoch - 1000/1000, PSNR: 27.0064, SSIM: 0.8545\n",
            "GPU models saved in epoch 1000/1000\n"
          ],
          "name": "stdout"
        }
      ]
    },
    {
      "cell_type": "markdown",
      "metadata": {
        "id": "fU3nNIqBnWKN"
      },
      "source": [
        "# Evaluation Only based on an input image supplied"
      ]
    },
    {
      "cell_type": "code",
      "metadata": {
        "id": "zTaxB-s11sEP"
      },
      "source": [
        "UPSCALE_FACTOR = 4"
      ],
      "execution_count": 9,
      "outputs": []
    },
    {
      "cell_type": "code",
      "metadata": {
        "id": "z5epLC5-2Ziv"
      },
      "source": [
        "import torchvision.transforms as T\r\n",
        "from typing import List, Tuple, Dict\r\n",
        "from PIL import Image\r\n",
        "from torchvision.transforms import Compose, RandomCrop, ToTensor, ToPILImage, CenterCrop, Resize\r\n",
        "import torchvision.utils as utils"
      ],
      "execution_count": 10,
      "outputs": []
    },
    {
      "cell_type": "code",
      "metadata": {
        "id": "na8yjLwunjip"
      },
      "source": [
        "TRANSFORMS: Compose = T.Compose([\r\n",
        "    T.Resize((128, 128)),\r\n",
        "    T.ToTensor(),\t\r\n",
        "    ])"
      ],
      "execution_count": 11,
      "outputs": []
    },
    {
      "cell_type": "code",
      "metadata": {
        "id": "uPpoR4Z7nuZC"
      },
      "source": [
        "def display_transform():\r\n",
        "    return Compose([\r\n",
        "        ToPILImage(),\r\n",
        "        Resize(512),\r\n",
        "        CenterCrop(512),\r\n",
        "        ToTensor()\r\n",
        "    ])"
      ],
      "execution_count": 51,
      "outputs": []
    },
    {
      "cell_type": "code",
      "metadata": {
        "colab": {
          "base_uri": "https://localhost:8080/"
        },
        "id": "MSNl36dgn6XY",
        "outputId": "f988c587-14aa-473c-e072-f09e6b5f3424"
      },
      "source": [
        "path_srgan_img = '/content/gdrive/My Drive/EVA4P2_S8_Data/I6.jpg'\r\n",
        "lr_eval      = Image.open(f'{path_srgan_img}') \r\n",
        "lr_eval = TRANSFORMS(lr_eval)\r\n",
        "lr_eval_cuda = lr_eval.unsqueeze_(0).cuda()\r\n",
        "print(lr_eval.shape, lr_eval_cuda.shape)"
      ],
      "execution_count": 54,
      "outputs": [
        {
          "output_type": "stream",
          "text": [
            "torch.Size([1, 3, 128, 128]) torch.Size([1, 3, 128, 128])\n"
          ],
          "name": "stdout"
        }
      ]
    },
    {
      "cell_type": "code",
      "metadata": {
        "colab": {
          "base_uri": "https://localhost:8080/"
        },
        "id": "33L2U2xxoEZA",
        "outputId": "0c8c1a64-30c3-4246-cf0d-f93cc8778b6f"
      },
      "source": [
        "netG_eval = Generator(UPSCALE_FACTOR)\r\n",
        "netG_eval.cuda()\r\n",
        "print('# generator parameters:', sum(param.numel() for param in netG_eval.parameters()))"
      ],
      "execution_count": 43,
      "outputs": [
        {
          "output_type": "stream",
          "text": [
            "# generator parameters: 734219\n"
          ],
          "name": "stdout"
        }
      ]
    },
    {
      "cell_type": "code",
      "metadata": {
        "colab": {
          "base_uri": "https://localhost:8080/"
        },
        "id": "NMovH1TPoHif",
        "outputId": "d60e72ee-92bc-4373-c019-7fbc9387d39e"
      },
      "source": [
        "netG_eval_save = f'/content/gdrive/My Drive/EVA4P2_S8_Data/Weights_D1011/netG_1000_20210315122214.pt'\r\n",
        "netG_eval.load_state_dict(torch.load(netG_eval_save))"
      ],
      "execution_count": 44,
      "outputs": [
        {
          "output_type": "execute_result",
          "data": {
            "text/plain": [
              "<All keys matched successfully>"
            ]
          },
          "metadata": {
            "tags": []
          },
          "execution_count": 44
        }
      ]
    },
    {
      "cell_type": "code",
      "metadata": {
        "colab": {
          "base_uri": "https://localhost:8080/"
        },
        "id": "vrnxlH-SoKXN",
        "outputId": "cd23f2f2-88da-4ae7-c349-4226f155631b"
      },
      "source": [
        "netG_eval.eval()\r\n",
        "with torch.no_grad():\r\n",
        "    sr_eval = netG_eval(lr_eval_cuda)\r\n",
        "sr_eval.shape "
      ],
      "execution_count": 55,
      "outputs": [
        {
          "output_type": "execute_result",
          "data": {
            "text/plain": [
              "torch.Size([1, 3, 512, 512])"
            ]
          },
          "metadata": {
            "tags": []
          },
          "execution_count": 55
        }
      ]
    },
    {
      "cell_type": "code",
      "metadata": {
        "colab": {
          "base_uri": "https://localhost:8080/",
          "height": 289
        },
        "id": "X255pIcMoTob",
        "outputId": "17a79d1d-2655-4b1c-ff2e-c4b9911b8e8e"
      },
      "source": [
        "plt.grid(b=None)\r\n",
        "plt.imshow(display_transform()(sr_eval.cpu().squeeze(0)).permute(1, 2, 0))"
      ],
      "execution_count": 56,
      "outputs": [
        {
          "output_type": "execute_result",
          "data": {
            "text/plain": [
              "<matplotlib.image.AxesImage at 0x7ffae56a5f10>"
            ]
          },
          "metadata": {
            "tags": []
          },
          "execution_count": 56
        },
        {
          "output_type": "display_data",
          "data": {
            "image/png": "[encoded data removed]",
            "text/plain": [
              "<Figure size 432x288 with 1 Axes>"
            ]
          },
          "metadata": {
            "tags": []
          }
        }
      ]
    },
    {
      "cell_type": "code",
      "metadata": {
        "colab": {
          "base_uri": "https://localhost:8080/",
          "height": 289
        },
        "id": "NTNRUYS9oUIS",
        "outputId": "afb0ec72-3917-484a-d2cf-32afa04d85f7"
      },
      "source": [
        "plt.grid(b=None)\r\n",
        "plt.imshow(display_transform()(lr_eval.squeeze(0)).permute(1, 2, 0))"
      ],
      "execution_count": 57,
      "outputs": [
        {
          "output_type": "execute_result",
          "data": {
            "text/plain": [
              "<matplotlib.image.AxesImage at 0x7ffae5638050>"
            ]
          },
          "metadata": {
            "tags": []
          },
          "execution_count": 57
        },
        {
          "output_type": "display_data",
          "data": {
            "image/png": "[encoded data removed]",
            "text/plain": [
              "<Figure size 432x288 with 1 Axes>"
            ]
          },
          "metadata": {
            "tags": []
          }
        }
      ]
    },
    {
      "cell_type": "code",
      "metadata": {
        "id": "ttqV3DIsqlcq"
      },
      "source": [
        ""
      ],
      "execution_count": null,
      "outputs": []
    }
  ]
}